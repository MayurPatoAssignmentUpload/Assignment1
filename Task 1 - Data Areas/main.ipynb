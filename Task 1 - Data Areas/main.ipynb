{
 "cells": [
  {
   "cell_type": "code",
   "execution_count": null,
   "metadata": {},
   "outputs": [],
   "source": [
    "import cv2\n",
    "import torch\n",
    "import pandas as pd"
   ]
  },
  {
   "cell_type": "code",
   "execution_count": null,
   "metadata": {},
   "outputs": [],
   "source": [
    "path = 'model_weights.pt'\n",
    "model = torch.hub.load('ultralytics/yolov5', 'custom', path, force_reload = True)"
   ]
  },
  {
   "cell_type": "code",
   "execution_count": null,
   "metadata": {},
   "outputs": [],
   "source": [
    "# Main (Code executed in Google Colab): Writing the Processed Frames to an Output file\n",
    "cap = cv2.VideoCapture(\"/content/drive/MyDrive/Assignment1/Test Videos/4.mp4\")\n",
    "\n",
    "fourcc = cv2.VideoWriter_fourcc(*'mp4v')\n",
    "fps = cap.get(cv2.CAP_PROP_FPS)\n",
    "width = int(cap.get(cv2.CAP_PROP_FRAME_WIDTH))\n",
    "height = int(cap.get(cv2.CAP_PROP_FRAME_HEIGHT))\n",
    "out = cv2.VideoWriter('./Output_4.mp4', fourcc, fps, (width, height))\n",
    "\n",
    "while True:\n",
    "    ret, frame = cap.read()\n",
    "    if not ret:\n",
    "        break\n",
    "\n",
    "    frame = cv2.cvtColor(frame, cv2.COLOR_BGR2RGB)\n",
    "\n",
    "    with torch.no_grad():\n",
    "        detections = model(frame).xyxy[0].cpu().numpy()\n",
    "\n",
    "    bb_list = []\n",
    "    for row in detections:\n",
    "        x1, y1, x2, y2, _, _ = row\n",
    "        bb_list.append([x1, y1, x2, y2])\n",
    "\n",
    "    if bb_list:\n",
    "        for area in bb_list:\n",
    "            mx1, my1, mx2, my2 = map(int, area)\n",
    "            cv2.rectangle(frame, (mx1, my1), (mx2, my2), (255, 0, 0), 2)\n",
    "\n",
    "    frame = cv2.cvtColor(frame, cv2.COLOR_RGB2BGR)\n",
    "    out.write(frame)\n",
    "\n",
    "cap.release()\n",
    "out.release()\n",
    "cv2.destroyAllWindows()"
   ]
  },
  {
   "cell_type": "code",
   "execution_count": null,
   "metadata": {},
   "outputs": [],
   "source": [
    "# Main (Code executed in my PC): Real-Time Detection (Some frames are skipped to improve FPS performance)\n",
    "cap = cv2.VideoCapture(\"Test Videos/4.mp4\")\n",
    "fcount = 0\n",
    "\n",
    "while True:\n",
    "    ret, frame = cap.read()\n",
    "    if not ret: \n",
    "        break\n",
    "    fcount += 1\n",
    "    if fcount%7 != 0: \n",
    "        continue\n",
    "\n",
    "    frame = cv2.cvtColor(frame, cv2.COLOR_BGR2RGB)\n",
    "\n",
    "    detections = pd.DataFrame(model(frame).xyxy[0])\n",
    "    \n",
    "    bb_list = []\n",
    "    for _, row in detections.iterrows():\n",
    "        x1, y1, x2, y2, _, _ = row\n",
    "        bb_list.append([x1, y1, x2, y2])\n",
    "\n",
    "    if bb_list:\n",
    "        for area in bb_list:\n",
    "            mx1, my1, mx2, my2 = map(int, area)\n",
    "            cv2.rectangle(frame, (mx1, my1), (mx2, my2), (255, 0, 0), 2)\n",
    "                                \n",
    "    frame = cv2.cvtColor(frame, cv2.COLOR_RGB2BGR)\n",
    "    cv2.imshow(\"Frame\", frame)\n",
    "    \n",
    "    if cv2.waitKey(1) & 0xFF == 27: \n",
    "        break\n",
    "\n",
    "cap.release()\n",
    "cv2.destroyAllWindows()\n",
    "cv2.waitKey(1)"
   ]
  }
 ],
 "metadata": {
  "kernelspec": {
   "display_name": "Python 3",
   "language": "python",
   "name": "python3"
  },
  "language_info": {
   "codemirror_mode": {
    "name": "ipython",
    "version": 3
   },
   "file_extension": ".py",
   "mimetype": "text/x-python",
   "name": "python",
   "nbconvert_exporter": "python",
   "pygments_lexer": "ipython3",
   "version": "3.11.3"
  }
 },
 "nbformat": 4,
 "nbformat_minor": 2
}
